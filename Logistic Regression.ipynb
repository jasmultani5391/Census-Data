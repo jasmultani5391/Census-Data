{
 "cells": [
  {
   "cell_type": "code",
   "execution_count": 1,
   "metadata": {},
   "outputs": [
    {
     "name": "stdout",
     "output_type": "stream",
     "text": [
      "How would I iterate through this? Would I even need to? Still need to find the measurements\n"
     ]
    }
   ],
   "source": [
    "import pandas as pd\n",
    "import seaborn as sns\n",
    "import matplotlib.pyplot as plt\n",
    "import numpy as np\n",
    "import requests\n",
    "from io import TextIOWrapper\n",
    "from zipfile import ZipFile\n",
    "import io\n",
    "\n",
    "from matplotlib.colors import LinearSegmentedColormap\n",
    "\n",
    "from numpy import array\n",
    "from numpy import argmax\n",
    "\n",
    "from sklearn import tree\n",
    "from sklearn import linear_model\n",
    "from sklearn.model_selection import train_test_split\n",
    "from sklearn.neighbors import KNeighborsClassifier\n",
    "from sklearn.ensemble import RandomForestClassifier\n",
    "from sklearn.preprocessing import LabelEncoder\n",
    "from sklearn.preprocessing import OneHotEncoder\n",
    "from sklearn.preprocessing import StandardScaler\n",
    "from sklearn.linear_model import LogisticRegression\n",
    "from sklearn.metrics import precision_score, recall_score, f1_score\n",
    "from sklearn.metrics import confusion_matrix\n",
    "from sklearn.metrics import classification_report\n",
    "\n",
    "\n",
    "# Files were previously uploaded from data cleaning onto Github repository.\n",
    "# Just need to pull them up with the following:\n",
    "\n",
    "feat_url = \"https://raw.githubusercontent.com/jasmultani5391/Census-Data/master/featDF.csv\"\n",
    "download1 = requests.get(feat_url).content\n",
    "\n",
    "complete_url = \"https://raw.githubusercontent.com/jasmultani5391/Census-Data/master/completeDF.csv\"\n",
    "download2 = requests.get(complete_url).content\n",
    "\n",
    "# Read the downloaded content and turn it into a pandas dataframe\n",
    "featDF = pd.read_csv(io.StringIO(download1.decode('utf-8')))\n",
    "completeDF = pd.read_csv(io.StringIO(download2.decode('utf-8')))\n",
    "\n",
    "#print(featDF.head(4))\n",
    "#print(completeDF.head(4))\n",
    "\n",
    "print('How would I iterate through this? Would I even need to? Still need to find the measurements')\n"
   ]
  },
  {
   "cell_type": "code",
   "execution_count": 2,
   "metadata": {},
   "outputs": [],
   "source": [
    "labelDF = featDF['salary_label']\n",
    "featDF = featDF.drop(['salary_label'],\n",
    "                     axis=1\n",
    "                     )"
   ]
  },
  {
   "cell_type": "code",
   "execution_count": 3,
   "metadata": {},
   "outputs": [
    {
     "name": "stdout",
     "output_type": "stream",
     "text": [
      "[0 0 0]\n"
     ]
    }
   ],
   "source": [
    "################# STEP 7: LOGISTIC REGRESSION CLASSIFIER #################\n",
    "# Let's now train the data on logistic regression. Split up the dataset\n",
    "# between trained and tested data by making the test_size=0.2.\n",
    "\n",
    "\n",
    "trnlogdata, tstlogdata, trnloglbl, tstloglbl = train_test_split(featDF,\n",
    "                                                                labelDF,\n",
    "                                                                test_size=0.2,\n",
    "                                                                random_state=0\n",
    "                                                               )\n",
    "\n",
    "# Transform the data using the StandardScaler() class. The Logistic Regression\n",
    "# classifier needs the data to be in a standardized shape.\n",
    "scaler = StandardScaler()\n",
    "trnlogdata = scaler.fit_transform(trnlogdata)\n",
    "tstlogdata = scaler.transform(tstlogdata)\n",
    "\n",
    "# Create and train the model on the LogisticRegression class.\n",
    "lr_classifier = LogisticRegression(random_state=0,\n",
    "                                   fit_intercept=True,\n",
    "                                  ).fit(trnlogdata, trnloglbl)\n",
    "\n",
    "predict = lr_classifier.predict(trnlogdata[:3, :]) #Was the prediction label 1 or 0\n",
    "print(predict)\n",
    "#likelihood that the prediction is a 1\n",
    "predict_est = lr_classifier.predict_proba(trnlogdata)[:, :]\n",
    "predict_est1 = np.reshape(predict_est[:100,1], (-1,1))\n",
    "\n",
    "\n",
    "# Score the model on the train data.\n",
    "train_logreg_model = lr_classifier.score(trnlogdata, trnloglbl)\n",
    "#print('Train score is ' + str(round(train_logreg_model*100, 2)))\n",
    "\n",
    "# Score the model on the test data.\n",
    "test_logreg_model = lr_classifier.score(tstlogdata, tstloglbl)\n",
    "#print('Test score is ' + str(round(test_logreg_model*100, 2)))\n",
    "\n",
    "clf = lr_classifier.sparsify()\n",
    "#print(clf)"
   ]
  },
  {
   "cell_type": "code",
   "execution_count": 4,
   "metadata": {},
   "outputs": [
    {
     "name": "stdout",
     "output_type": "stream",
     "text": [
      "Train Accuracy Score %: 85.3501\n",
      "Train Precision %: 73.1667\n",
      "Train Recall %: 58.7693\n",
      "Train F1 %: 65.1825\n",
      "\n",
      "\n",
      "\n",
      "Test Accuracy Score %: 85.0476\n",
      "Test Precision %: 75.0784\n",
      "Test Recall %: 59.3556\n",
      "Test F1 %: 66.2976\n"
     ]
    }
   ],
   "source": [
    "# Train model with best k (where F1 is highest)\n",
    "lr_classifier.fit(trnlogdata, np.ravel(trnloglbl))\n",
    "\n",
    "\n",
    "# Score based on train dataset.\n",
    "train_lrscore = lr_classifier.score(trnlogdata, trnloglbl)\n",
    "print('Train Accuracy Score %: ' + str(round(train_lrscore*100, 4)))\n",
    "\n",
    "predict_trainlabels = lr_classifier.predict(trnlogdata)\n",
    "trainprecision = precision_score(trnloglbl, predict_trainlabels, average='binary')\n",
    "print('Train Precision %: ' + str(round(trainprecision*100, 4)))\n",
    "            \n",
    "trainrecall = recall_score(trnloglbl, predict_trainlabels, average='binary')\n",
    "print('Train Recall %: ' + str(round(trainrecall*100, 4)))\n",
    "\n",
    "trainf1 = f1_score(trnloglbl, predict_trainlabels, average='binary')\n",
    "print('Train F1 %: ' + str(round(trainf1*100, 4)))\n",
    "\n",
    "\n",
    "print('\\n\\n')\n",
    "# Score based on test dataset.\n",
    "test_lrscore = lr_classifier.score(tstlogdata, tstloglbl)\n",
    "print('Test Accuracy Score %: ' + str(round(test_lrscore*100, 4)))\n",
    "\n",
    "predict_testlabels = lr_classifier.predict(tstlogdata)\n",
    "testprecision = precision_score(tstloglbl, predict_testlabels, average='binary')\n",
    "print('Test Precision %: ' + str(round(testprecision*100, 4)))\n",
    "            \n",
    "testrecall = recall_score(tstloglbl, predict_testlabels, average='binary')\n",
    "print('Test Recall %: ' + str(round(testrecall*100, 4)))\n",
    "\n",
    "testf1 = f1_score(tstloglbl, predict_testlabels, average='binary')\n",
    "print('Test F1 %: ' + str(round(testf1*100, 4)))"
   ]
  },
  {
   "cell_type": "code",
   "execution_count": 5,
   "metadata": {},
   "outputs": [
    {
     "name": "stdout",
     "output_type": "stream",
     "text": [
      "9330 655 1253 1786\n",
      "              precision    recall  f1-score   support\n",
      "\n",
      "           0       0.88      0.93      0.91      9985\n",
      "           1       0.73      0.59      0.65      3039\n",
      "\n",
      "    accuracy                           0.85     13024\n",
      "   macro avg       0.81      0.76      0.78     13024\n",
      "weighted avg       0.85      0.85      0.85     13024\n",
      "\n"
     ]
    }
   ],
   "source": [
    "train_predict = lr_classifier.predict(trnlogdata)\n",
    "confusion_matrix = confusion_matrix(trnloglbl, train_predict)\n",
    "tn, fp, fn, tp = confusion_matrix.flatten()\n",
    "print(tn, fp, fn, tp )\n",
    "report_train = classification_report(trnloglbl, train_predict)\n",
    "print(report_train)"
   ]
  },
  {
   "cell_type": "code",
   "execution_count": null,
   "metadata": {},
   "outputs": [],
   "source": []
  }
 ],
 "metadata": {
  "kernelspec": {
   "display_name": "Python 3",
   "language": "python",
   "name": "python3"
  },
  "language_info": {
   "codemirror_mode": {
    "name": "ipython",
    "version": 3
   },
   "file_extension": ".py",
   "mimetype": "text/x-python",
   "name": "python",
   "nbconvert_exporter": "python",
   "pygments_lexer": "ipython3",
   "version": "3.7.6"
  }
 },
 "nbformat": 4,
 "nbformat_minor": 4
}
